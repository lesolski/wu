{
 "cells": [
  {
   "cell_type": "markdown",
   "metadata": {},
   "source": [
    "\n",
    "# Home Assignment 1\n",
    "## Data Science IV, Summer Semester 2021\n",
    "### Instructor: Johannes Wachs\n",
    "----\n",
    "### Instructions \n",
    "Answer the following questions with a mixture of code (Python 3) and markdown cells, as appropriate. Your submission should be a Jupyter notebook (.ipynb). Your notebook should run from beginning to end - please test this before you submit. You may use libraries or code written in class, unless specifically noted otherwise.\n",
    "\n",
    "Submit your solutions via Learn by ***23.59pm on Wednesday, March 31st 2021***. Late submissions are accepted for 12 hours following the deadline, with 1/3 of the total possible points deducted from the score.\n",
    "\n",
    "It is ok to borrow code from online sources, if you cite all your sources. Plagiarism will result in an automatic score of 0 points. You may discuss the assignment with your classmates, but everyone should write their own code."
   ]
  },
  {
   "cell_type": "markdown",
   "metadata": {},
   "source": [
    "### Please fill in:\n",
    "Student name: me\n",
    "\n",
    "WU Student ID: me "
   ]
  },
  {
   "cell_type": "markdown",
   "metadata": {},
   "source": [
    "----\n",
    "### Task 1: Write your own bootstrap. (20 Points)\n",
    "Write a function that:\n",
    "- takes a list of numbers as input\n",
    "- calculates their mean\n",
    "- bootstraps (1000 times) the mean\n",
    "- returns a list with three elements: the mean, and the lower and upper bounds of the 95\\% confidence interval of the bootstrapped mean."
   ]
  },
  {
   "cell_type": "code",
   "execution_count": 1,
   "metadata": {},
   "outputs": [],
   "source": [
    "import numpy as np\n",
    "np.random.seed(16)\n",
    "\n",
    "def bootstrap_mean_CI(input_list):\n",
    "    # bootstraping\n",
    "    bootstraped_mean = [np.mean(np.random.choice(a=input_list,\n",
    "                                                 replace=True,\n",
    "                                                 size=len(input_list))) for _ in range(1000)]\n",
    "    # confidence interval\n",
    "    ci_low = np.percentile(bootstraped_mean, 2.5)\n",
    "    ci_up = np.percentile(bootstraped_mean, 97.5)\n",
    "    \n",
    "    return [np.mean(input_list), ci_low, ci_up]\n",
    "\n",
    "# tests\n",
    "# l = [1, 2, 3, 4, 5, 6, 7, 8, 9, 10]\n",
    "# print(bootstrap_mean_CI(l))"
   ]
  },
  {
   "cell_type": "markdown",
   "metadata": {},
   "source": [
    "Write a more general function that takes two inputs:\n",
    "- a list of numbers\n",
    "- a function implementing a statistical measure (i.e. the mean, median, variance)\n",
    "And outputs the statistic and a bootstrapped estimate of the 95% confidence interval."
   ]
  },
  {
   "cell_type": "code",
   "execution_count": 2,
   "metadata": {},
   "outputs": [],
   "source": [
    "np.random.seed(16)\n",
    "\n",
    "def bootstrap_general_CI(input_list, statistical_function):\n",
    "    # bootstraping\n",
    "    bootstraped = [statistical_function(np.random.choice(a=input_list,\n",
    "                                                 replace=True, \n",
    "                                                 size=len(input_list))) for _ in range(1000)]\n",
    "    # confidence interval\n",
    "    ci_low = np.percentile(bootstraped, 2.5)\n",
    "    ci_up = np.percentile(bootstraped, 97.5)\n",
    "\n",
    "    return [statistical_function(input_list), ci_low, ci_up]\n",
    "\n",
    "\n",
    "# tests\n",
    "# print(bootstrap_general_CI(l, np.mean))\n",
    "# print(bootstrap_general_CI(l, np.median))\n",
    "# print(bootstrap_general_CI(l, np.var))"
   ]
  },
  {
   "cell_type": "markdown",
   "metadata": {},
   "source": [
    "Draw 1000 samples from a Poisson distribution with mean 10. Apply your general function to calculate the mean and estimate the 95% confidence interval."
   ]
  },
  {
   "cell_type": "code",
   "execution_count": 3,
   "metadata": {},
   "outputs": [
    {
     "data": {
      "text/plain": [
       "[9.889, 9.69, 10.081]"
      ]
     },
     "execution_count": 3,
     "metadata": {},
     "output_type": "execute_result"
    }
   ],
   "source": [
    "samples = np.random.poisson(lam=10.0, size=1000)\n",
    "bootstrap_general_CI(samples, np.mean)"
   ]
  },
  {
   "cell_type": "markdown",
   "metadata": {},
   "source": [
    "-----\n",
    "### Task 2: Finding correlations in random data. (20 Points)\n",
    "- Generate 100 vectors of 100 numbers each, drawn from a normal distribution with mean 0 and standard deviation 1.\n",
    "- Calculate the Pearson correlations between all pairs of vectors.\n",
    "- Plot a histogram of the correlations - be sure to label your axes.\n",
    "- Select the pair of vectors with the greatest (in absolute value) correlation. Calculate the statistical significance of this correlation, either using a built in library function, or by writing your own.\n",
    "- Interpret your findings: is the correlation statistically significant? Hint: think of jellybeans."
   ]
  },
  {
   "cell_type": "code",
   "execution_count": 4,
   "metadata": {},
   "outputs": [
    {
     "name": "stdout",
     "output_type": "stream",
     "text": [
      "Max. absolute correlation between two pairs of vectors is: 0.37598473642109953\n",
      "P-value of max absolute correlation is: 0.00011571789441034446 and is statistically significant, since p<0.05\n"
     ]
    },
    {
     "data": {
      "image/png": "[encoded data removed]",
      "text/plain": [
       "<Figure size 432x288 with 1 Axes>"
      ]
     },
     "metadata": {
      "needs_background": "light"
     },
     "output_type": "display_data"
    }
   ],
   "source": [
    "from scipy.stats import pearsonr\n",
    "from itertools import combinations\n",
    "\n",
    "import matplotlib.pyplot as plt\n",
    "import seaborn as sns\n",
    "\n",
    "# 100 random vectors drawn from a normal dist with mean of 0 and std of 1\n",
    "np.random.seed(16)\n",
    "vectors = [np.random.normal(loc=0, scale=1, size=100) for _ in range(100)]\n",
    "\n",
    "# all possible pairs of vectors\n",
    "vector_pairs = list(combinations(vectors, 2))\n",
    "\n",
    "# dictionary containing pearson correlation and p-value between all vector pairs\n",
    "pearson = dict([pearsonr(pair[0], pair[1]) for pair in vector_pairs])\n",
    "\n",
    "# plot data\n",
    "pearson_coef = pearson.keys()\n",
    "\n",
    "sns.histplot(pearson_coef,\n",
    "         bins=20,\n",
    "         color='blue')\n",
    "\n",
    "plt.ylabel('Frequency', size=15)\n",
    "plt.xlabel('Pearson Correlation Coefficient', size=15)\n",
    "\n",
    "# since scipy.stats.pearsonr returns p-value I will just use that\n",
    "max_abs = max(pearson_coef, key=abs)\n",
    "p_value_of_max = pearson[max_abs]\n",
    "\n",
    "print('Max. absolute correlation between two pairs of vectors is:', abs(max_abs))\n",
    "print('P-value of max absolute correlation is:', p_value_of_max, 'and is statistically significant, since p<0.05')"
   ]
  },
  {
   "cell_type": "markdown",
   "metadata": {},
   "source": [
    "-----\n",
    "### Task 3: Regex practice (20 Points)\n",
    "- Using the library re, write a function including a regex that finds the positions of all leading 0s. Example: \"I have 023 apples and 0301 oranges and 008 strawberries\" has four leading zeros.\n",
    "- Define a function that finds all dates in a string of the format dd-mm-yyyy OR mm-dd-yyyy. To keep it simple invalid dates (for example 50-50-2004) are ok."
   ]
  },
  {
   "cell_type": "code",
   "execution_count": 5,
   "metadata": {},
   "outputs": [],
   "source": [
    "import re\n",
    "\n",
    "def leading_zeros(input_string):\n",
    "    regex = re.compile(r'\\b(0+)')\n",
    "    matches = regex.finditer(input_string)\n",
    "    # I am not quite sure if we should return start, span or end of position so I will stick with start\n",
    "    return [m.start() for m in matches]\n",
    "\n",
    "# tests\n",
    "# test_str = 'I have 023 apples and 0301 oranges and 008123 strawberries'\n",
    "# print(leading_zeros(test_str))"
   ]
  },
  {
   "cell_type": "code",
   "execution_count": 6,
   "metadata": {},
   "outputs": [],
   "source": [
    "def find_all_dates(input_string):\n",
    "    regex = re.compile(r'\\b\\d{2}-\\d{2}-\\d{4}\\b')\n",
    "    result = regex.findall(input_string)\n",
    "    return result\n",
    "\n",
    "# tests\n",
    "# test_str = \"\"\"Okay this is some random text written on 20-03-2021 22-03-2229\n",
    "#             and it should work when I execute it at 31.03.2021 (this one is invalid due to dots)\n",
    "#             and this one as well 23.2020.15 and this one is valid 20.20.2021 but this one is not 002-23-2921\n",
    "#             this one not as well 20-2220-211123 and I will submit this on 31-03-2021 at midnight and this one is invalid\n",
    "#             203-203-2021, 2020-21-12\"\"\"\n",
    "# print(find_all_dates(test_str))"
   ]
  },
  {
   "cell_type": "markdown",
   "metadata": {},
   "source": [
    "-----\n",
    "### Task 4: Python or Java? (40 Points)\n",
    "Stack Overflow is a platform for people to ask and answer questions about computer programming. The site uses a system of tags to label posts. These tags help users search for questions. Often users do not tag their posts but NLP can help. \n",
    "\n",
    "In this task, your goal will be to train a machine learning classifier to distinguish between questions tagged *python* and *java* using the text of the question. The resulting classifier represents a first step towards a system that can automatically categorize new incoming posts.\n",
    "\n",
    "I have provided you with a random sample of 1000 posts tagged python and 1000 posts tagged java. Note that none of the posts in your sample have been tagged with both python and java. To make the task more challenging, I have removed the substrings python, java, and py from the questions.\n",
    "\n",
    "This task will require several steps. Feel free to adapt code from the in-class demonstration.\n",
    "\n",
    "Steps:\n",
    "- Read in the file python_or_java.csv\n",
    "- Process the text as discussed during the class.\n",
    "- Create a document-term matrix, weighted via TD-IDF.\n",
    "- Carry out a test-train split or cross-validation procedure\n",
    "- Train a classifier to distinguish Python from Java posts on training data.\n",
    "- Evaluate the performance of your classifier on held out data. You should report at least two evaluation statistics. What is the baseline accuracy of a classifier that always guesses Python?\n",
    "- What text features are most suggestive of a Python post? A Java post?"
   ]
  },
  {
   "cell_type": "code",
   "execution_count": 7,
   "metadata": {},
   "outputs": [],
   "source": [
    "import pandas as pd\n",
    "import string\n",
    "import nltk\n",
    "from nltk.stem import WordNetLemmatizer\n",
    "from nltk.corpus import wordnet\n",
    "from nltk.stem import PorterStemmer\n",
    "from nltk.corpus import stopwords\n",
    "\n",
    "lemmatizer = WordNetLemmatizer()\n",
    "ps = PorterStemmer() \n",
    "en_stopwords= stopwords.words('english')\n",
    "\n",
    "# I took this part of code from your notebook, since it is written that we should process data as discussed in class,\n",
    "# and I also understand clearly what is happening here\n",
    "def get_wordnet_pos(token):\n",
    "    tag = nltk.pos_tag([token])[0][1][0].upper()\n",
    "    tag_dict = {\"J\": wordnet.ADJ, #map\n",
    "                \"N\": wordnet.NOUN,\n",
    "                \"V\": wordnet.VERB,\n",
    "                \"R\": wordnet.ADV}\n",
    "    return tag_dict.get(tag, wordnet.NOUN)\n",
    "\n",
    "def processing_pipeline(text):\n",
    "    tokens=nltk.word_tokenize(text)\n",
    "    lemmatized_tokens=[lemmatizer.lemmatize(token, get_wordnet_pos(token)) for token in tokens]\n",
    "    stemmed_tokens =[ps.stem(token) for token in lemmatized_tokens]\n",
    "    processed_tokens = [token for token in stemmed_tokens if token not in en_stopwords]\n",
    "    processed_tokens = [token for token in processed_tokens if token not in string.punctuation]\n",
    "    return processed_tokens"
   ]
  },
  {
   "cell_type": "code",
   "execution_count": 8,
   "metadata": {},
   "outputs": [],
   "source": [
    "# for better visibility of post-text and token columns\n",
    "pd.set_option('display.max_colwidth', None)\n",
    "\n",
    "# load csv and process post text column\n",
    "# since its written that we only need to hand in jupyternotebook I suppose you will have csv file named as it was given to us\n",
    "df = pd.read_csv('python_or_java.csv')\n",
    "df['processed_text'] = df['Body'].apply(lambda text: processing_pipeline(text))\n",
    "\n",
    "#df"
   ]
  },
  {
   "cell_type": "code",
   "execution_count": 9,
   "metadata": {},
   "outputs": [
    {
     "name": "stdout",
     "output_type": "stream",
     "text": [
      "Baseline Accuracy: 0.498\n",
      "========================================\n",
      "Random Forest Model Accuracy: 0.908\n",
      "========================================\n",
      "Confusion Matrix: [[181  20]\n",
      " [ 17 182]]\n",
      "========================================\n",
      "Accuracy (10-fold): 0.92125\n",
      "========================================\n",
      "AUC Score: 0.972\n",
      "========================================\n",
      "public\n",
      "def\n",
      "python\n",
      "java\n",
      "print\n",
      "void\n",
      "new\n",
      "import\n",
      "string\n",
      "self\n"
     ]
    }
   ],
   "source": [
    "# I will perform classification task with the help of random forests algorithm\n",
    "\n",
    "from sklearn.feature_extraction.text import TfidfVectorizer\n",
    "from sklearn.model_selection import train_test_split, cross_val_score\n",
    "from sklearn.ensemble import RandomForestClassifier\n",
    "from sklearn.linear_model import LogisticRegression\n",
    "from sklearn.metrics import accuracy_score, confusion_matrix, roc_auc_score\n",
    "\n",
    "corpus = list([' '.join(text) for text in df['processed_text']])\n",
    "\n",
    "#keeps only the tokens that are present in at least 10 posts, and in at most 50% of posts\n",
    "vectorizer = TfidfVectorizer(min_df=10, max_df=.5) \n",
    "\n",
    "X = vectorizer.fit_transform(corpus)\n",
    "Y = np.array(df['python_post'])\n",
    "\n",
    "# random split of data into training and test\n",
    "X_train, X_test, Y_train, Y_test = train_test_split(X, Y, test_size=.2, random_state=42)\n",
    "\n",
    "# Random Forest Classification task\n",
    "model = RandomForestClassifier(n_estimators=500)\n",
    "model.fit(X_train, Y_train)\n",
    "Y_pred = model.predict_proba(X_test)[:,1]\n",
    "\n",
    "# baseline - always Python\n",
    "always_python_pred = np.empty(len(Y_test))\n",
    "always_python_pred.fill(1)\n",
    "print('Baseline Accuracy:', round(accuracy_score(Y_test, always_python_pred), 3))\n",
    "print(40*'=')\n",
    "\n",
    "# Radnom forest model accuracy\n",
    "print('Random Forest Model Accuracy:',round(accuracy_score(Y_test, model.predict(X_test)),3))\n",
    "print(40*'=')\n",
    "\n",
    "# Confusion Matrix:\n",
    "print('Confusion Matrix:', confusion_matrix(Y_test, model.predict(X_test)))\n",
    "print(40*'=')\n",
    "\n",
    "# 10-fold cross validation score\n",
    "accuracies = cross_val_score(estimator=model, \n",
    "                             X=X_train,\n",
    "                             y=Y_train,\n",
    "                             cv=10)\n",
    "print('Accuracy (10-fold):', np.mean(accuracies))\n",
    "print(40*'=')\n",
    "\n",
    "# Area Under the Curve score\n",
    "print('AUC Score:', round(roc_auc_score(Y_test,Y_pred),3))\n",
    "print(40*'=')\n",
    "\n",
    "\n",
    "f_importances = pd.Series(model.feature_importances_).sort_values(ascending=False)[:10]\n",
    "\n",
    "# Feature importances\n",
    "for i in f_importances.index:\n",
    "    print(vectorizer.get_feature_names()[i])"
   ]
  },
  {
   "cell_type": "markdown",
   "metadata": {},
   "source": [
    "I tried a lot to come up with a solution on how to get feature importance for both classes separatly but so far I had no success. I would really appreciate your feedback on this matter. Thank you in advance."
   ]
  }
 ],
 "metadata": {
  "kernelspec": {
   "display_name": "Python 3",
   "language": "python",
   "name": "python3"
  },
  "language_info": {
   "codemirror_mode": {
    "name": "ipython",
    "version": 3
   },
   "file_extension": ".py",
   "mimetype": "text/x-python",
   "name": "python",
   "nbconvert_exporter": "python",
   "pygments_lexer": "ipython3",
   "version": "3.8.5"
  }
 },
 "nbformat": 4,
 "nbformat_minor": 4
}
