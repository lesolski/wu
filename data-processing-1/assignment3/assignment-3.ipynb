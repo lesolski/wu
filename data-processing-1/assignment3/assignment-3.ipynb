{
 "cells": [
  {
   "cell_type": "markdown",
   "metadata": {
    "deletable": false,
    "editable": false,
    "nbgrader": {
     "cell_type": "markdown",
     "checksum": "08fecd06cada05dc2b74c825e68b8924",
     "grade": false,
     "grade_id": "cell-e37bf3469fc1e9d7",
     "locked": true,
     "schema_version": 3,
     "solution": false,
     "task": false
    }
   },
   "source": [
    "Before you turn this problem in, make sure everything runs as expected. First, **restart the kernel** (in the menubar, select Kernel$\\rightarrow$Restart) and then **run all cells** (in the menubar, select Cell$\\rightarrow$Run All). Do NOT add any cells to the notebook!\n",
    "\n",
    "Make sure you fill in any place that says `YOUR CODE HERE` or _YOUR ANSWER HERE_ , as well as your name and group below:"
   ]
  },
  {
   "cell_type": "code",
   "execution_count": null,
   "metadata": {},
   "outputs": [],
   "source": [
    "NAME = \"\"\n",
    "STUDENTID = \"\""
   ]
  },
  {
   "cell_type": "markdown",
   "metadata": {
    "deletable": false,
    "editable": false,
    "nbgrader": {
     "cell_type": "markdown",
     "checksum": "4874aa1ced6f8dc1099b89077884f306",
     "grade": false,
     "grade_id": "cell-c0ea4505a174ae73",
     "locked": true,
     "schema_version": 3,
     "solution": false,
     "task": false
    }
   },
   "source": [
    "# Assignment 3 (Individual)\n",
    "\n",
    "In continuation of Assignment 2, we will now practice how to process datasets.\n",
    "From what you have seen in the lecture you should practice the following steps:\n",
    "* basic dataset description & assessing \"tidyness\"\n",
    "* filtering\n",
    "* sorting\n",
    "* aggregation\n",
    "using both \"pure\" Python and also using Pandas. \n",
    "-----\n",
    "\n",
    "## Step 1a (4 points)\n",
    "\n",
    "Find a CSV dataset online (same requirements apply as in Assignment 2, but additionally make sure that the dataset has at least  one column with a categorical value and one column with a numerical value. Note, if you worked in a group, you are NOT allowed to use both the same dataset, i.e., we expect everybody to find their own CSV file.\n",
    "\n",
    "Using the CSV package, write some python code to:\n",
    "* print the first 5 lines of the dataset\n",
    "* print and count the number of rows in the dataest.\n",
    "* checks how many different __values__ appear per column in the CSV file.\n",
    "* checks how many different __datatypes__ appear per column of the CSV file."
   ]
  },
  {
   "cell_type": "code",
   "execution_count": null,
   "metadata": {
    "deletable": false,
    "nbgrader": {
     "cell_type": "code",
     "checksum": "3ddf05e24713fbffa1fe6c777e73c0cb",
     "grade": true,
     "grade_id": "cell-d95381a6582f825c",
     "locked": false,
     "points": 2,
     "schema_version": 3,
     "solution": true,
     "task": false
    }
   },
   "outputs": [],
   "source": [
    "# YOUR CODE HERE\n",
    "raise NotImplementedError()"
   ]
  },
  {
   "cell_type": "markdown",
   "metadata": {
    "deletable": false,
    "editable": false,
    "nbgrader": {
     "cell_type": "markdown",
     "checksum": "61707f3dc60dfd46e8893073578f5074",
     "grade": false,
     "grade_id": "cell-f8cef6187ceceb14",
     "locked": true,
     "schema_version": 3,
     "solution": false,
     "task": false
    }
   },
   "source": [
    "Now, (potentially extending the code above), answer the following questions:\n",
    "* which types of variables appear in this dateset?\n",
    "  * for each variable say (i) whether it's nominal or categorical, (ii) whether it is an identifier, a dimension or a measurement.  \n",
    "* how would you describe an \"observation\" in this dataset?\n",
    "* is the dataset tidy?\n",
    "* if not, why not? "
   ]
  },
  {
   "cell_type": "markdown",
   "metadata": {
    "deletable": false,
    "nbgrader": {
     "cell_type": "markdown",
     "checksum": "a27242aacc7aa9d0a4d2c030326b107c",
     "grade": true,
     "grade_id": "cell-d7b32328117ebf35",
     "locked": false,
     "points": 2,
     "schema_version": 3,
     "solution": true,
     "task": false
    }
   },
   "source": [
    "YOUR ANSWER HERE"
   ]
  },
  {
   "cell_type": "markdown",
   "metadata": {
    "deletable": false,
    "editable": false,
    "nbgrader": {
     "cell_type": "markdown",
     "checksum": "114440bb994a9e09ea57b5f7c0ce9938",
     "grade": false,
     "grade_id": "cell-5c5372d3c554971e",
     "locked": true,
     "schema_version": 3,
     "solution": false,
     "task": false
    }
   },
   "source": [
    "## Step 1b (2 point)\n",
    "\n",
    "Now do the same steps you solved in 1a using Pandas, i.e.:\n",
    "\n",
    "i.e., using Pandas, read in the CSV file:\n",
    "* print the header (first 5 records) of the dataset\n",
    "* get further information about the dataset using info() and describe()\n",
    "* checks how many different __values__ appear per column in the CSV file.\n",
    "* checks how many different __datatypes__ appear per column of the CSV file."
   ]
  },
  {
   "cell_type": "code",
   "execution_count": null,
   "metadata": {
    "deletable": false,
    "nbgrader": {
     "cell_type": "code",
     "checksum": "78bccc9014bb42be8d4e8170f1e74111",
     "grade": true,
     "grade_id": "cell-f5415d515c411ae1",
     "locked": false,
     "points": 2,
     "schema_version": 3,
     "solution": true,
     "task": false
    }
   },
   "outputs": [],
   "source": [
    "# YOUR CODE HERE\n",
    "raise NotImplementedError()"
   ]
  },
  {
   "cell_type": "markdown",
   "metadata": {
    "deletable": false,
    "editable": false,
    "nbgrader": {
     "cell_type": "markdown",
     "checksum": "a9489bc3103041ef65123bfdecb096b1",
     "grade": false,
     "grade_id": "cell-2c520251364a5bdf",
     "locked": true,
     "schema_version": 3,
     "solution": false,
     "task": false
    }
   },
   "source": [
    "## Step 2a Filtering (2 point)\n",
    "\n",
    "Using pure Python, i.e. NOT using Pandas:\n",
    "* filter the rows of the dataset by a condition of your choice on one or several of the columns:\n"
   ]
  },
  {
   "cell_type": "code",
   "execution_count": null,
   "metadata": {
    "deletable": false,
    "nbgrader": {
     "cell_type": "code",
     "checksum": "3d7b7e614f6ff0a8932a4fb2826178c5",
     "grade": true,
     "grade_id": "cell-e6ae38cb5f7d3be4",
     "locked": false,
     "points": 2,
     "schema_version": 3,
     "solution": true,
     "task": false
    }
   },
   "outputs": [],
   "source": [
    "# YOUR CODE HERE\n",
    "raise NotImplementedError()"
   ]
  },
  {
   "cell_type": "markdown",
   "metadata": {
    "deletable": false,
    "editable": false,
    "nbgrader": {
     "cell_type": "markdown",
     "checksum": "bb10d3498fdc3abdd1d4d3e354644d03",
     "grade": false,
     "grade_id": "cell-9260994668c92955",
     "locked": true,
     "schema_version": 3,
     "solution": false,
     "task": false
    }
   },
   "source": [
    "## Step 2b Filtering - Pandas (2 point)\n",
    "\n",
    "Now, using Pandas\n",
    "* filter the rows of the dataset by the same condition as for 2a:\n"
   ]
  },
  {
   "cell_type": "code",
   "execution_count": null,
   "metadata": {
    "deletable": false,
    "nbgrader": {
     "cell_type": "code",
     "checksum": "3ffb384e27bf8896c3971e986549f839",
     "grade": true,
     "grade_id": "cell-473150cf648b02b6",
     "locked": false,
     "points": 2,
     "schema_version": 3,
     "solution": true,
     "task": false
    }
   },
   "outputs": [],
   "source": [
    "# YOUR CODE HERE\n",
    "raise NotImplementedError()"
   ]
  },
  {
   "cell_type": "markdown",
   "metadata": {
    "deletable": false,
    "editable": false,
    "nbgrader": {
     "cell_type": "markdown",
     "checksum": "b349b3b921f8944e413e00d68b359999",
     "grade": false,
     "grade_id": "cell-73b60cda7f3252d3",
     "locked": true,
     "schema_version": 3,
     "solution": false,
     "task": false
    }
   },
   "source": [
    "## Step 3a Sorting (2 point)\n",
    "\n",
    "Using pure Python, i.e. NOT using Pandas:\n",
    "* sort the rows by one or several of the columns in descending order of values:\n"
   ]
  },
  {
   "cell_type": "code",
   "execution_count": null,
   "metadata": {
    "deletable": false,
    "nbgrader": {
     "cell_type": "code",
     "checksum": "00030d738e3f2256510b7163dba4302e",
     "grade": true,
     "grade_id": "cell-2767323b925458d4",
     "locked": false,
     "points": 2,
     "schema_version": 3,
     "solution": true,
     "task": false
    }
   },
   "outputs": [],
   "source": [
    "# YOUR CODE HERE\n",
    "raise NotImplementedError()"
   ]
  },
  {
   "cell_type": "markdown",
   "metadata": {
    "deletable": false,
    "editable": false,
    "nbgrader": {
     "cell_type": "markdown",
     "checksum": "33d39b43de6e8c69e99c1d8a3b8341f6",
     "grade": false,
     "grade_id": "cell-9ee719175b7a3f92",
     "locked": true,
     "schema_version": 3,
     "solution": false,
     "task": false
    }
   },
   "source": [
    "## Step 3b Sorting - Pandas (2 point)\n",
    "\n",
    "Now, using Pandas\n",
    "* sort the rows of the dataset by the same columns as in 3a, again in descending order of values:\n"
   ]
  },
  {
   "cell_type": "code",
   "execution_count": null,
   "metadata": {
    "deletable": false,
    "nbgrader": {
     "cell_type": "code",
     "checksum": "11ea8191401fed0fc2185eef0cac0923",
     "grade": true,
     "grade_id": "cell-ab67df7234046820",
     "locked": false,
     "points": 2,
     "schema_version": 3,
     "solution": true,
     "task": false
    }
   },
   "outputs": [],
   "source": [
    "# YOUR CODE HERE\n",
    "raise NotImplementedError()"
   ]
  },
  {
   "cell_type": "markdown",
   "metadata": {
    "deletable": false,
    "editable": false,
    "nbgrader": {
     "cell_type": "markdown",
     "checksum": "f5a1468fadbfbc4fc6d6660f0fb25624",
     "grade": false,
     "grade_id": "cell-51b87e1452183d7d",
     "locked": true,
     "schema_version": 3,
     "solution": false,
     "task": false
    }
   },
   "source": [
    "## Step 4a Aggregation and Grouping (4 points)\n",
    "\n",
    "Using pure Python, i.e. NOT using Pandas:\n",
    "* pick one column _X_ with numeric values and one column with categorical values _Y_ and perform the following:\n",
    "  * Compute the __sum__ of the values of column _X_ __per__ value of column _Y_ "
   ]
  },
  {
   "cell_type": "code",
   "execution_count": null,
   "metadata": {
    "deletable": false,
    "nbgrader": {
     "cell_type": "code",
     "checksum": "05220199aec83deaaba6dbf36a408b86",
     "grade": true,
     "grade_id": "cell-5e38de453103e829",
     "locked": false,
     "points": 4,
     "schema_version": 3,
     "solution": true,
     "task": false
    }
   },
   "outputs": [],
   "source": [
    "# YOUR CODE HERE\n",
    "raise NotImplementedError()"
   ]
  },
  {
   "cell_type": "markdown",
   "metadata": {
    "deletable": false,
    "editable": false,
    "nbgrader": {
     "cell_type": "markdown",
     "checksum": "f9c5b5663db17283303ddd471ccbdbaf",
     "grade": false,
     "grade_id": "cell-fb20d8a84b9c02d0",
     "locked": true,
     "schema_version": 3,
     "solution": false,
     "task": false
    }
   },
   "source": [
    "## Step 4b Aggregation and Grouping - Pandas (2 point)\n",
    "\n",
    "Now, again, using Pandas, do the same as in 4a\n"
   ]
  },
  {
   "cell_type": "code",
   "execution_count": null,
   "metadata": {
    "deletable": false,
    "nbgrader": {
     "cell_type": "code",
     "checksum": "4a9ac71cbedb8c9c157c57089bc9bf67",
     "grade": true,
     "grade_id": "cell-62062f8adb44ae48",
     "locked": false,
     "points": 2,
     "schema_version": 3,
     "solution": true,
     "task": false
    }
   },
   "outputs": [],
   "source": [
    "# YOUR CODE HERE\n",
    "raise NotImplementedError()"
   ]
  }
 ],
 "metadata": {
  "kernelspec": {
   "display_name": "Python 3",
   "language": "python",
   "name": "python3"
  },
  "language_info": {
   "codemirror_mode": {
    "name": "ipython",
    "version": 3
   },
   "file_extension": ".py",
   "mimetype": "text/x-python",
   "name": "python",
   "nbconvert_exporter": "python",
   "pygments_lexer": "ipython3",
   "version": "3.8.5"
  }
 },
 "nbformat": 4,
 "nbformat_minor": 4
}
